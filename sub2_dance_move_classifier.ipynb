{
 "cells": [
  {
   "cell_type": "markdown",
   "id": "db8e6176",
   "metadata": {},
   "source": [
    "# 🕺 TP02: Dance Move Classification using Scikit-learn"
   ]
  },
  {
   "cell_type": "markdown",
   "id": "923ebdc2",
   "metadata": {},
   "source": [
    "\n",
    "Welcome to our team project Submission #2. In this notebook, we will demonstrate how to classify dance moves using pose keypoints and Scikit-learn. \n",
    "\n",
    "This builds upon our earlier data wrangling work (TP01), where we processed and visualized pose data from OpenPose JSONs. Here, we shift our focus to:\n",
    "- Feature extraction from pose coordinates\n",
    "- Model training and evaluation using Scikit-learn\n",
    "- Visualizing classification performance\n",
    "\n",
    "🎯 **Goal:** Predict the correct dance move label (e.g., “step”, “spin”, “slide”) from pose-based feature vectors.\n"
   ]
  },
  {
   "cell_type": "code",
   "execution_count": 21,
   "id": "09ad9474",
   "metadata": {},
   "outputs": [],
   "source": [
    "# Core imports\n",
    "import pandas as pd\n",
    "import numpy as np\n",
    "from sklearn.preprocessing import StandardScaler, LabelEncoder\n",
    "from sklearn.model_selection import train_test_split, cross_val_score\n",
    "from sklearn.metrics import confusion_matrix, classification_report, ConfusionMatrixDisplay\n",
    "from sklearn.pipeline import Pipeline\n",
    "from sklearn.neighbors import KNeighborsClassifier\n",
    "from sklearn.svm import SVC\n",
    "import matplotlib.pyplot as plt"
   ]
  },
  {
   "cell_type": "code",
   "execution_count": 22,
   "id": "f65417f6",
   "metadata": {},
   "outputs": [],
   "source": [
    "# Custom helper functions from TP01\n",
    "from sub1_pose_utils import (\n",
    "    index_poses, get_pose_names, read_all_poses,\n",
    "    generate_column_labels, prep_dataframe,\n",
    "    store_all_poses, coords_to_vectors\n",
    ")"
   ]
  },
  {
   "cell_type": "code",
   "execution_count": 23,
   "id": "79b70788",
   "metadata": {},
   "outputs": [],
   "source": [
    "## Label Extraction from Filenames\n",
    "def extract_labels_from_filenames(json_list):\n",
    "    \"\"\"Extracts labels from filenames using the prefix before underscore.\n",
    "    E.g., 'dance_01.json' → 'dance' \"\"\"\n",
    "    return [fname.split('_')[0] for fname in json_list]"
   ]
  },
  {
   "cell_type": "code",
   "execution_count": 24,
   "id": "971cfb15",
   "metadata": {},
   "outputs": [],
   "source": [
    "# Import Hiromi's pose tools\n",
    "from pose_tools_byH import pose_list_to_vector_df, generate_vector_graph, poses_to_vectors"
   ]
  },
  {
   "cell_type": "markdown",
   "id": "121ac2fc",
   "metadata": {},
   "source": [
    "## 📥 Step 1: Load and Structure Pose Data"
   ]
  },
  {
   "cell_type": "code",
   "execution_count": 25,
   "id": "30e80bd8",
   "metadata": {},
   "outputs": [],
   "source": [
    "# Load pose JSONs\n",
    "json_list = index_poses(\"poses\")\n",
    "pose_names = get_pose_names(json_list)\n",
    "pose_list = read_all_poses(json_list, dir_path=\"poses\")"
   ]
  },
  {
   "cell_type": "code",
   "execution_count": 26,
   "id": "b51ef502",
   "metadata": {},
   "outputs": [],
   "source": [
    "# Generate labels from filenames\n",
    "labels_raw = extract_labels_from_filenames(json_list)"
   ]
  },
  {
   "cell_type": "code",
   "execution_count": 27,
   "id": "bc771265",
   "metadata": {},
   "outputs": [],
   "source": [
    "# Build DataFrame\n",
    "labels = generate_column_labels()\n",
    "df = prep_dataframe(labels)\n",
    "store_all_poses(pose_list, labels, df)"
   ]
  },
  {
   "cell_type": "code",
   "execution_count": 28,
   "id": "2f695f36",
   "metadata": {},
   "outputs": [
    {
     "name": "stdout",
     "output_type": "stream",
     "text": [
      "Data shape: (46, 36)\n"
     ]
    },
    {
     "data": {
      "text/html": [
       "<div>\n",
       "<style scoped>\n",
       "    .dataframe tbody tr th:only-of-type {\n",
       "        vertical-align: middle;\n",
       "    }\n",
       "\n",
       "    .dataframe tbody tr th {\n",
       "        vertical-align: top;\n",
       "    }\n",
       "\n",
       "    .dataframe thead th {\n",
       "        text-align: right;\n",
       "    }\n",
       "</style>\n",
       "<table border=\"1\" class=\"dataframe\">\n",
       "  <thead>\n",
       "    <tr style=\"text-align: right;\">\n",
       "      <th></th>\n",
       "      <th>00x</th>\n",
       "      <th>00y</th>\n",
       "      <th>01x</th>\n",
       "      <th>01y</th>\n",
       "      <th>02x</th>\n",
       "      <th>02y</th>\n",
       "      <th>03x</th>\n",
       "      <th>03y</th>\n",
       "      <th>04x</th>\n",
       "      <th>04y</th>\n",
       "      <th>...</th>\n",
       "      <th>13x</th>\n",
       "      <th>13y</th>\n",
       "      <th>14x</th>\n",
       "      <th>14y</th>\n",
       "      <th>15x</th>\n",
       "      <th>15y</th>\n",
       "      <th>16x</th>\n",
       "      <th>16y</th>\n",
       "      <th>17x</th>\n",
       "      <th>17y</th>\n",
       "    </tr>\n",
       "  </thead>\n",
       "  <tbody>\n",
       "    <tr>\n",
       "      <th>0</th>\n",
       "      <td>416.970074</td>\n",
       "      <td>111.688862</td>\n",
       "      <td>395.498931</td>\n",
       "      <td>200.326142</td>\n",
       "      <td>343.197430</td>\n",
       "      <td>201.977769</td>\n",
       "      <td>266.121535</td>\n",
       "      <td>255.930896</td>\n",
       "      <td>174.731544</td>\n",
       "      <td>308.782939</td>\n",
       "      <td>...</td>\n",
       "      <td>278.233461</td>\n",
       "      <td>650.119049</td>\n",
       "      <td>402.655979</td>\n",
       "      <td>103.981273</td>\n",
       "      <td>413.666821</td>\n",
       "      <td>102.880188</td>\n",
       "      <td>367.421283</td>\n",
       "      <td>120.497536</td>\n",
       "      <td>399.352726</td>\n",
       "      <td>116.093199</td>\n",
       "    </tr>\n",
       "    <tr>\n",
       "      <th>1</th>\n",
       "      <td>370.682954</td>\n",
       "      <td>112.752594</td>\n",
       "      <td>397.372456</td>\n",
       "      <td>176.547014</td>\n",
       "      <td>332.927073</td>\n",
       "      <td>176.547014</td>\n",
       "      <td>239.188333</td>\n",
       "      <td>210.397114</td>\n",
       "      <td>180.601621</td>\n",
       "      <td>125.771863</td>\n",
       "      <td>...</td>\n",
       "      <td>442.288935</td>\n",
       "      <td>690.808154</td>\n",
       "      <td>357.663684</td>\n",
       "      <td>101.035252</td>\n",
       "      <td>382.400296</td>\n",
       "      <td>94.525617</td>\n",
       "      <td>348.550196</td>\n",
       "      <td>104.941032</td>\n",
       "      <td>416.250397</td>\n",
       "      <td>90.619836</td>\n",
       "    </tr>\n",
       "    <tr>\n",
       "      <th>2</th>\n",
       "      <td>298.092040</td>\n",
       "      <td>133.001079</td>\n",
       "      <td>306.938936</td>\n",
       "      <td>193.033584</td>\n",
       "      <td>253.857562</td>\n",
       "      <td>192.401663</td>\n",
       "      <td>141.375605</td>\n",
       "      <td>135.528763</td>\n",
       "      <td>220.997665</td>\n",
       "      <td>98.877339</td>\n",
       "      <td>...</td>\n",
       "      <td>648.176335</td>\n",
       "      <td>456.544687</td>\n",
       "      <td>286.717460</td>\n",
       "      <td>119.098814</td>\n",
       "      <td>313.258147</td>\n",
       "      <td>120.362657</td>\n",
       "      <td>272.815196</td>\n",
       "      <td>125.418026</td>\n",
       "      <td>332.215780</td>\n",
       "      <td>125.418026</td>\n",
       "    </tr>\n",
       "    <tr>\n",
       "      <th>3</th>\n",
       "      <td>401.390829</td>\n",
       "      <td>113.188565</td>\n",
       "      <td>410.100915</td>\n",
       "      <td>170.675131</td>\n",
       "      <td>361.905107</td>\n",
       "      <td>172.417148</td>\n",
       "      <td>273.642905</td>\n",
       "      <td>208.418836</td>\n",
       "      <td>155.185739</td>\n",
       "      <td>213.064215</td>\n",
       "      <td>...</td>\n",
       "      <td>550.042959</td>\n",
       "      <td>686.892879</td>\n",
       "      <td>387.454692</td>\n",
       "      <td>101.575117</td>\n",
       "      <td>413.004277</td>\n",
       "      <td>95.768393</td>\n",
       "      <td>378.163934</td>\n",
       "      <td>105.059151</td>\n",
       "      <td>443.199241</td>\n",
       "      <td>91.123014</td>\n",
       "    </tr>\n",
       "    <tr>\n",
       "      <th>4</th>\n",
       "      <td>371.250272</td>\n",
       "      <td>179.687440</td>\n",
       "      <td>349.656885</td>\n",
       "      <td>220.539793</td>\n",
       "      <td>288.378355</td>\n",
       "      <td>225.208634</td>\n",
       "      <td>206.673648</td>\n",
       "      <td>184.356280</td>\n",
       "      <td>178.660606</td>\n",
       "      <td>106.153203</td>\n",
       "      <td>...</td>\n",
       "      <td>379.420743</td>\n",
       "      <td>675.751731</td>\n",
       "      <td>357.243751</td>\n",
       "      <td>165.680918</td>\n",
       "      <td>379.420743</td>\n",
       "      <td>165.680918</td>\n",
       "      <td>323.394658</td>\n",
       "      <td>170.349759</td>\n",
       "      <td>385.256793</td>\n",
       "      <td>170.349759</td>\n",
       "    </tr>\n",
       "  </tbody>\n",
       "</table>\n",
       "<p>5 rows × 36 columns</p>\n",
       "</div>"
      ],
      "text/plain": [
       "          00x         00y         01x         01y         02x         02y  \\\n",
       "0  416.970074  111.688862  395.498931  200.326142  343.197430  201.977769   \n",
       "1  370.682954  112.752594  397.372456  176.547014  332.927073  176.547014   \n",
       "2  298.092040  133.001079  306.938936  193.033584  253.857562  192.401663   \n",
       "3  401.390829  113.188565  410.100915  170.675131  361.905107  172.417148   \n",
       "4  371.250272  179.687440  349.656885  220.539793  288.378355  225.208634   \n",
       "\n",
       "          03x         03y         04x         04y  ...         13x  \\\n",
       "0  266.121535  255.930896  174.731544  308.782939  ...  278.233461   \n",
       "1  239.188333  210.397114  180.601621  125.771863  ...  442.288935   \n",
       "2  141.375605  135.528763  220.997665   98.877339  ...  648.176335   \n",
       "3  273.642905  208.418836  155.185739  213.064215  ...  550.042959   \n",
       "4  206.673648  184.356280  178.660606  106.153203  ...  379.420743   \n",
       "\n",
       "          13y         14x         14y         15x         15y         16x  \\\n",
       "0  650.119049  402.655979  103.981273  413.666821  102.880188  367.421283   \n",
       "1  690.808154  357.663684  101.035252  382.400296   94.525617  348.550196   \n",
       "2  456.544687  286.717460  119.098814  313.258147  120.362657  272.815196   \n",
       "3  686.892879  387.454692  101.575117  413.004277   95.768393  378.163934   \n",
       "4  675.751731  357.243751  165.680918  379.420743  165.680918  323.394658   \n",
       "\n",
       "          16y         17x         17y  \n",
       "0  120.497536  399.352726  116.093199  \n",
       "1  104.941032  416.250397   90.619836  \n",
       "2  125.418026  332.215780  125.418026  \n",
       "3  105.059151  443.199241   91.123014  \n",
       "4  170.349759  385.256793  170.349759  \n",
       "\n",
       "[5 rows x 36 columns]"
      ]
     },
     "execution_count": 28,
     "metadata": {},
     "output_type": "execute_result"
    }
   ],
   "source": [
    "print(\"Data shape:\", df.shape)\n",
    "df.head()"
   ]
  },
  {
   "cell_type": "markdown",
   "id": "af9e5b8b",
   "metadata": {},
   "source": [
    "## 🧹 Step 2: Preprocess and Engineer Features"
   ]
  },
  {
   "cell_type": "code",
   "execution_count": 29,
   "id": "caed125a",
   "metadata": {},
   "outputs": [],
   "source": [
    "# Clean missing rows\n",
    "df.dropna(inplace=True)"
   ]
  },
  {
   "cell_type": "code",
   "execution_count": 30,
   "id": "b877a4af",
   "metadata": {},
   "outputs": [],
   "source": [
    "# Normalize features\n",
    "scaler = StandardScaler()"
   ]
  },
  {
   "cell_type": "code",
   "execution_count": 31,
   "id": "a20bf4f0",
   "metadata": {},
   "outputs": [],
   "source": [
    "# Recalculate X as movement vectors between pose pairs\n",
    "vectors_df = pose_list_to_vector_df(pose_list, labels)\n",
    "X = scaler.fit_transform(vectors_df.values)"
   ]
  },
  {
   "cell_type": "code",
   "execution_count": 32,
   "id": "b8b0d6e7",
   "metadata": {},
   "outputs": [],
   "source": [
    "# Encode class labels (e.g., 'dance', 'jumping', etc.) into numeric form\n",
    "label_encoder = LabelEncoder()\n",
    "y = label_encoder.fit_transform(labels_raw)\n",
    "\n",
    "labels_raw_trimmed = labels_raw[:-1]  # remove last label\n",
    "y = label_encoder.fit_transform(labels_raw_trimmed)"
   ]
  },
  {
   "cell_type": "code",
   "execution_count": 33,
   "id": "b30629d1",
   "metadata": {},
   "outputs": [
    {
     "name": "stdout",
     "output_type": "stream",
     "text": [
      "Label classes: ['dance' 'flexing' 'jumping' 'laying' 'sitting' 'standing' 'tpose']\n"
     ]
    }
   ],
   "source": [
    "print(\"Label classes:\", label_encoder.classes_)"
   ]
  },
  {
   "cell_type": "code",
   "execution_count": 34,
   "id": "3355420e",
   "metadata": {},
   "outputs": [],
   "source": [
    "# Split data\n",
    "X_train, X_test, y_train, y_test = train_test_split(X, y, test_size=0.2, random_state=42)"
   ]
  },
  {
   "cell_type": "markdown",
   "id": "067c8583",
   "metadata": {},
   "source": [
    "### 🕵️ Visualizing Movement Between Poses\n",
    "Let's inspect how one pose transitions to the next using joint movement vectors."
   ]
  },
  {
   "cell_type": "code",
   "execution_count": 35,
   "id": "8fba97cc",
   "metadata": {},
   "outputs": [
    {
     "data": {
      "image/png": "[encoded data removed]",
      "text/plain": [
       "<Figure size 600x600 with 1 Axes>"
      ]
     },
     "metadata": {},
     "output_type": "display_data"
    }
   ],
   "source": [
    "# Visualize the movement between the first two poses\n",
    "generate_vector_graph(\n",
    "    pose_list[0],\n",
    "    poses_to_vectors(pose_list[0], pose_list[1]),\n",
    "    pose_name1=pose_names[0],\n",
    "    pose_name2=pose_names[1]\n",
    ")"
   ]
  },
  {
   "cell_type": "markdown",
   "id": "abcdd95e",
   "metadata": {},
   "source": [
    "## 🤖 Step 3: Train Classifiers"
   ]
  },
  {
   "cell_type": "code",
   "execution_count": 40,
   "id": "9a5203f6",
   "metadata": {},
   "outputs": [
    {
     "name": "stdout",
     "output_type": "stream",
     "text": [
      "Training label distribution: Counter({5: 13, 4: 9, 0: 4, 1: 3, 3: 3, 2: 3, 6: 1})\n",
      "Test label distribution: Counter({5: 6, 2: 2, 0: 1})\n"
     ]
    }
   ],
   "source": [
    "from collections import Counter\n",
    "print(\"Training label distribution:\", Counter(y_train))\n",
    "print(\"Test label distribution:\", Counter(y_test))"
   ]
  },
  {
   "cell_type": "code",
   "execution_count": 41,
   "id": "0adb4a39",
   "metadata": {},
   "outputs": [
    {
     "name": "stdout",
     "output_type": "stream",
     "text": [
      "KNN Accuracy: 0.1111111111111111\n"
     ]
    }
   ],
   "source": [
    "# K-Nearest Neighbors\n",
    "knn = KNeighborsClassifier(n_neighbors=3)\n",
    "knn.fit(X_train, y_train)\n",
    "y_pred_knn = knn.predict(X_test)\n",
    "print(\"KNN Accuracy:\", knn.score(X_test, y_test))"
   ]
  },
  {
   "cell_type": "markdown",
   "id": "ec534cf2",
   "metadata": {},
   "source": [
    "## 🧪 Step 4: Evaluate Model Performance"
   ]
  },
  {
   "cell_type": "code",
   "execution_count": 42,
   "id": "cf31e822",
   "metadata": {},
   "outputs": [
    {
     "data": {
      "image/png": "[encoded data removed]",
      "text/plain": [
       "<Figure size 640x480 with 2 Axes>"
      ]
     },
     "metadata": {},
     "output_type": "display_data"
    },
    {
     "name": "stdout",
     "output_type": "stream",
     "text": [
      "              precision    recall  f1-score   support\n",
      "\n",
      "           0       0.00      0.00      0.00         1\n",
      "           1       0.00      0.00      0.00         0\n",
      "           2       0.00      0.00      0.00         2\n",
      "           4       0.00      0.00      0.00         0\n",
      "           5       0.33      0.17      0.22         6\n",
      "\n",
      "    accuracy                           0.11         9\n",
      "   macro avg       0.07      0.03      0.04         9\n",
      "weighted avg       0.22      0.11      0.15         9\n",
      "\n"
     ]
    },
    {
     "name": "stderr",
     "output_type": "stream",
     "text": [
      "C:\\Users\\MissV\\AppData\\Local\\Packages\\PythonSoftwareFoundation.Python.3.11_qbz5n2kfra8p0\\LocalCache\\local-packages\\Python311\\site-packages\\sklearn\\metrics\\_classification.py:1531: UndefinedMetricWarning: Precision is ill-defined and being set to 0.0 in labels with no predicted samples. Use `zero_division` parameter to control this behavior.\n",
      "  _warn_prf(average, modifier, f\"{metric.capitalize()} is\", len(result))\n",
      "C:\\Users\\MissV\\AppData\\Local\\Packages\\PythonSoftwareFoundation.Python.3.11_qbz5n2kfra8p0\\LocalCache\\local-packages\\Python311\\site-packages\\sklearn\\metrics\\_classification.py:1531: UndefinedMetricWarning: Recall is ill-defined and being set to 0.0 in labels with no true samples. Use `zero_division` parameter to control this behavior.\n",
      "  _warn_prf(average, modifier, f\"{metric.capitalize()} is\", len(result))\n",
      "C:\\Users\\MissV\\AppData\\Local\\Packages\\PythonSoftwareFoundation.Python.3.11_qbz5n2kfra8p0\\LocalCache\\local-packages\\Python311\\site-packages\\sklearn\\metrics\\_classification.py:1531: UndefinedMetricWarning: Precision is ill-defined and being set to 0.0 in labels with no predicted samples. Use `zero_division` parameter to control this behavior.\n",
      "  _warn_prf(average, modifier, f\"{metric.capitalize()} is\", len(result))\n",
      "C:\\Users\\MissV\\AppData\\Local\\Packages\\PythonSoftwareFoundation.Python.3.11_qbz5n2kfra8p0\\LocalCache\\local-packages\\Python311\\site-packages\\sklearn\\metrics\\_classification.py:1531: UndefinedMetricWarning: Recall is ill-defined and being set to 0.0 in labels with no true samples. Use `zero_division` parameter to control this behavior.\n",
      "  _warn_prf(average, modifier, f\"{metric.capitalize()} is\", len(result))\n",
      "C:\\Users\\MissV\\AppData\\Local\\Packages\\PythonSoftwareFoundation.Python.3.11_qbz5n2kfra8p0\\LocalCache\\local-packages\\Python311\\site-packages\\sklearn\\metrics\\_classification.py:1531: UndefinedMetricWarning: Precision is ill-defined and being set to 0.0 in labels with no predicted samples. Use `zero_division` parameter to control this behavior.\n",
      "  _warn_prf(average, modifier, f\"{metric.capitalize()} is\", len(result))\n",
      "C:\\Users\\MissV\\AppData\\Local\\Packages\\PythonSoftwareFoundation.Python.3.11_qbz5n2kfra8p0\\LocalCache\\local-packages\\Python311\\site-packages\\sklearn\\metrics\\_classification.py:1531: UndefinedMetricWarning: Recall is ill-defined and being set to 0.0 in labels with no true samples. Use `zero_division` parameter to control this behavior.\n",
      "  _warn_prf(average, modifier, f\"{metric.capitalize()} is\", len(result))\n"
     ]
    }
   ],
   "source": [
    "# Confusion Matrix\n",
    "ConfusionMatrixDisplay.from_predictions(y_test, y_pred_knn)\n",
    "plt.title(\"KNN Confusion Matrix\")\n",
    "plt.show()\n",
    "\n",
    "# Classification report\n",
    "print(classification_report(y_test, y_pred_knn))"
   ]
  },
  {
   "cell_type": "markdown",
   "id": "a574d6ff",
   "metadata": {},
   "source": [
    "## Optional: Add Model for Comparison"
   ]
  },
  {
   "cell_type": "code",
   "execution_count": 43,
   "id": "c2cea05e",
   "metadata": {},
   "outputs": [
    {
     "name": "stdout",
     "output_type": "stream",
     "text": [
      "SVC Accuracy: 0.6666666666666666\n",
      "              precision    recall  f1-score   support\n",
      "\n",
      "           0       0.00      0.00      0.00         1\n",
      "           2       0.00      0.00      0.00         2\n",
      "           4       0.00      0.00      0.00         0\n",
      "           5       0.75      1.00      0.86         6\n",
      "\n",
      "    accuracy                           0.67         9\n",
      "   macro avg       0.19      0.25      0.21         9\n",
      "weighted avg       0.50      0.67      0.57         9\n",
      "\n"
     ]
    },
    {
     "name": "stderr",
     "output_type": "stream",
     "text": [
      "C:\\Users\\MissV\\AppData\\Local\\Packages\\PythonSoftwareFoundation.Python.3.11_qbz5n2kfra8p0\\LocalCache\\local-packages\\Python311\\site-packages\\sklearn\\metrics\\_classification.py:1531: UndefinedMetricWarning: Precision is ill-defined and being set to 0.0 in labels with no predicted samples. Use `zero_division` parameter to control this behavior.\n",
      "  _warn_prf(average, modifier, f\"{metric.capitalize()} is\", len(result))\n",
      "C:\\Users\\MissV\\AppData\\Local\\Packages\\PythonSoftwareFoundation.Python.3.11_qbz5n2kfra8p0\\LocalCache\\local-packages\\Python311\\site-packages\\sklearn\\metrics\\_classification.py:1531: UndefinedMetricWarning: Recall is ill-defined and being set to 0.0 in labels with no true samples. Use `zero_division` parameter to control this behavior.\n",
      "  _warn_prf(average, modifier, f\"{metric.capitalize()} is\", len(result))\n",
      "C:\\Users\\MissV\\AppData\\Local\\Packages\\PythonSoftwareFoundation.Python.3.11_qbz5n2kfra8p0\\LocalCache\\local-packages\\Python311\\site-packages\\sklearn\\metrics\\_classification.py:1531: UndefinedMetricWarning: Precision is ill-defined and being set to 0.0 in labels with no predicted samples. Use `zero_division` parameter to control this behavior.\n",
      "  _warn_prf(average, modifier, f\"{metric.capitalize()} is\", len(result))\n",
      "C:\\Users\\MissV\\AppData\\Local\\Packages\\PythonSoftwareFoundation.Python.3.11_qbz5n2kfra8p0\\LocalCache\\local-packages\\Python311\\site-packages\\sklearn\\metrics\\_classification.py:1531: UndefinedMetricWarning: Recall is ill-defined and being set to 0.0 in labels with no true samples. Use `zero_division` parameter to control this behavior.\n",
      "  _warn_prf(average, modifier, f\"{metric.capitalize()} is\", len(result))\n",
      "C:\\Users\\MissV\\AppData\\Local\\Packages\\PythonSoftwareFoundation.Python.3.11_qbz5n2kfra8p0\\LocalCache\\local-packages\\Python311\\site-packages\\sklearn\\metrics\\_classification.py:1531: UndefinedMetricWarning: Precision is ill-defined and being set to 0.0 in labels with no predicted samples. Use `zero_division` parameter to control this behavior.\n",
      "  _warn_prf(average, modifier, f\"{metric.capitalize()} is\", len(result))\n",
      "C:\\Users\\MissV\\AppData\\Local\\Packages\\PythonSoftwareFoundation.Python.3.11_qbz5n2kfra8p0\\LocalCache\\local-packages\\Python311\\site-packages\\sklearn\\metrics\\_classification.py:1531: UndefinedMetricWarning: Recall is ill-defined and being set to 0.0 in labels with no true samples. Use `zero_division` parameter to control this behavior.\n",
      "  _warn_prf(average, modifier, f\"{metric.capitalize()} is\", len(result))\n"
     ]
    },
    {
     "data": {
      "image/png": "[encoded data removed]",
      "text/plain": [
       "<Figure size 640x480 with 2 Axes>"
      ]
     },
     "metadata": {},
     "output_type": "display_data"
    }
   ],
   "source": [
    "# Compare with SVC classifier\n",
    "from sklearn.svm import SVC\n",
    "\n",
    "svc = SVC(kernel='rbf')\n",
    "svc.fit(X_train, y_train)\n",
    "y_pred_svc = svc.predict(X_test)\n",
    "\n",
    "print(\"SVC Accuracy:\", svc.score(X_test, y_test))\n",
    "print(classification_report(y_test, y_pred_svc))\n",
    "\n",
    "ConfusionMatrixDisplay.from_predictions(y_test, y_pred_svc)\n",
    "plt.title(\"SVC Confusion Matrix\")\n",
    "plt.show()"
   ]
  },
  {
   "cell_type": "markdown",
   "id": "2fffbcd1",
   "metadata": {},
   "source": [
    "## Optional: Visualize Feature Space"
   ]
  },
  {
   "cell_type": "code",
   "execution_count": 44,
   "id": "c3cb7e82",
   "metadata": {},
   "outputs": [
    {
     "data": {
      "image/png": "[encoded data removed]",
      "text/plain": [
       "<Figure size 800x600 with 1 Axes>"
      ]
     },
     "metadata": {},
     "output_type": "display_data"
    }
   ],
   "source": [
    "# Visualize feature space using PCA\n",
    "from sklearn.decomposition import PCA\n",
    "\n",
    "pca = PCA(n_components=2)\n",
    "X_2D = pca.fit_transform(X)\n",
    "\n",
    "plt.figure(figsize=(8, 6))\n",
    "plt.scatter(X_2D[:, 0], X_2D[:, 1], c=y, cmap='tab10', alpha=0.8)\n",
    "plt.title(\"PCA of Dance Pose Movement Features\")\n",
    "plt.xlabel(\"Principal Component 1\")\n",
    "plt.ylabel(\"Principal Component 2\")\n",
    "plt.grid(True)\n",
    "plt.show()"
   ]
  },
  {
   "cell_type": "markdown",
   "id": "41590cdd",
   "metadata": {},
   "source": [
    "## 🎓 Summary\n",
    "\n",
    "In this tutorial, we demonstrated how to classify human dance movements using pose vectors extracted from JSON data. We used Scikit-learn to implement a KNN classifier and evaluated its performance using a confusion matrix and classification report. We also visualized motion between poses using vector arrows and explored dimensionality with PCA. Our data pipeline and labeling strategy were built collaboratively, and we extend special thanks to Hiromi Cota for their work on initial dataset structure and visualization tools."
   ]
  },
  {
   "cell_type": "markdown",
   "id": "709086ae",
   "metadata": {},
   "source": [
    "## 🎓 Conclusion & Next Steps"
   ]
  },
  {
   "cell_type": "markdown",
   "id": "f0eed7a6",
   "metadata": {},
   "source": [
    "\n",
    "In this tutorial, we demonstrated a multi-class classification of dance moves using Scikit-learn. We began by loading pose data, engineered features from keypoints, and trained a basic KNN model.\n",
    "\n",
    "✅ Next steps might include:\n",
    "- Using real class labels (e.g., \"step\", \"spin\", \"slide\")\n",
    "- Adding additional models (e.g., SVM with kernel tuning)\n",
    "- Applying PCA to visualize clusters in 2D\n",
    "\n",
    "🧠 Stay tuned for TP03: Deep Learning with PyTorch!\n"
   ]
  },
  {
   "cell_type": "markdown",
   "id": "ee4d8103",
   "metadata": {},
   "source": [
    "## References\n",
    "\n",
    "- Matthes, E. (2023). *Python Crash Course* (3rd ed.). No Starch Press.  \n",
    "- Microsoft. (2025). *Fundamentals of Generative AI*. Microsoft Learn. https://learn.microsoft.com  \n",
    "- OpenAI. (2025). ChatGPT’s assistance with Scikit-learn dance classification [Large language model]. https://openai.com/chatgpt  \n",
    "- Scikit-learn. (n.d.). User guide. https://scikit-learn.org/stable/user_guide.html  "
   ]
  }
 ],
 "metadata": {
  "kernelspec": {
   "display_name": "Python 3",
   "language": "python",
   "name": "python3"
  },
  "language_info": {
   "codemirror_mode": {
    "name": "ipython",
    "version": 3
   },
   "file_extension": ".py",
   "mimetype": "text/x-python",
   "name": "python",
   "nbconvert_exporter": "python",
   "pygments_lexer": "ipython3",
   "version": "3.11.9"
  }
 },
 "nbformat": 4,
 "nbformat_minor": 5
}
