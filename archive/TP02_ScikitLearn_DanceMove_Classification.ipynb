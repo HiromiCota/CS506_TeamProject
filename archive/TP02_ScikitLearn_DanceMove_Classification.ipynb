# TP02 Dance Move Classification Using Scikit-learn
# Team Member: Verónica Elze (Feature Engineering Lead)
# Course: CS506 Programming for Computing
# City University of Seattle

# 1. Introduction
# This notebook demonstrates the classification of dance movements (e.g., step, spin, slide)
# using features derived from pose data. It builds upon the feature extraction from TP01.

# Learning Outcomes:
# - Engineer body movement features from pose data
# - Train and evaluate ML models using scikit-learn
# - Compare classifier performance and interpret results

# 2. Setup and Imports
import numpy as np
import pandas as pd
import matplotlib.pyplot as plt
import seaborn as sns

from sklearn.model_selection import train_test_split, cross_val_score
from sklearn.preprocessing import StandardScaler
from sklearn.metrics import accuracy_score, confusion_matrix, classification_report
from sklearn.neighbors import KNeighborsClassifier
from sklearn.tree import DecisionTreeClassifier, plot_tree
from sklearn.svm import SVC

import warnings
warnings.filterwarnings('ignore')

# 3. Load and Inspect Data
df = pd.read_csv('pose_features_tp01.csv')  # Update with actual path
df.head()

df['label'].value_counts().plot(kind='bar', title='Dance Move Class Distribution')
plt.show()

# 4. Feature Engineering Examples
df['wrist_velocity'] = df['right_wrist_x'].diff().abs() + df['right_wrist_y'].diff().abs()
df['arm_span'] = np.sqrt((df['left_wrist_x'] - df['right_wrist_x'])**2 +
                         (df['left_wrist_y'] - df['right_wrist_y'])**2)
df.dropna(inplace=True)
df.head()

# 5. Preprocessing
X = df.drop('label', axis=1)
y = df['label']

X_train, X_test, y_train, y_test = train_test_split(X, y, test_size=0.2, random_state=42)

scaler = StandardScaler()
X_train_scaled = scaler.fit_transform(X_train)
X_test_scaled = scaler.transform(X_test)

# 6.1 Train KNN
knn = KNeighborsClassifier(n_neighbors=5)
knn.fit(X_train_scaled, y_train)
knn_preds = knn.predict(X_test_scaled)
print("KNN Accuracy:", accuracy_score(y_test, knn_preds))
sns.heatmap(confusion_matrix(y_test, knn_preds), annot=True)
plt.title('KNN Confusion Matrix')
plt.show()

# 6.2 Train Decision Tree
tree = DecisionTreeClassifier(max_depth=5)
tree.fit(X_train_scaled, y_train)
print("Decision Tree Accuracy:", tree.score(X_test_scaled, y_test))
plot_tree(tree, feature_names=X.columns, class_names=tree.classes_, filled=True)
plt.show()

# 6.3 Train SVM
svm = SVC(kernel='linear')
svm.fit(X_train_scaled, y_train)
svm_preds = svm.predict(X_test_scaled)
print("SVM Classification Report:")
print(classification_report(y_test, svm_preds))

# 7. Model Comparison
models = {
    'KNN': knn,
    'Decision Tree': tree,
    'SVM': svm
}
for name, model in models.items():
    scores = cross_val_score(model, X_train_scaled, y_train, cv=5)
    print(f"{name} Cross-Validation Mean Accuracy: {scores.mean():.2f}")

# 8. Summary
# - Best model: TBD based on accuracy
# - Feature impact: wrist velocity, arm span useful
# - Challenge: Distinguishing similar dance moves

# 9. References
# Matthes, E. (2023). Python Crash Course (3rd ed.). No Starch Press.
# Sweigart, A. (2020). Automate the Boring Stuff with Python (2nd ed.). No Starch Press.
# Chollet, F. (2018). Deep Learning with Python. Manning Publications.
# OpenAI. (2025). ChatGPT’s assistance with Scikit-learn project [Large language model]. https://openai.com/chatgpt