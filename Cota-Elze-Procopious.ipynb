{
 "cells": [
  {
   "cell_type": "markdown",
   "id": "d21df0be",
   "metadata": {},
   "source": [
    "# Before We Start\n",
    "1. Python, Pandas, VS Code setup instructions \n",
    "2. Dataset link or simulated pose data provided "
   ]
  },
  {
   "cell_type": "markdown",
   "id": "510539cf",
   "metadata": {},
   "source": [
    "# Step 0: Install & Import Modules"
   ]
  },
  {
   "cell_type": "code",
   "execution_count": null,
   "id": "dbfd1e22",
   "metadata": {},
   "outputs": [],
   "source": [
    "# Install stuff"
   ]
  },
  {
   "cell_type": "code",
   "execution_count": 3,
   "id": "aa9b2c96",
   "metadata": {},
   "outputs": [],
   "source": [
    "# Import stuff\n",
    "import pandas as pd\n",
    "from pandas import DataFrame\n",
    "import copy"
   ]
  },
  {
   "cell_type": "markdown",
   "id": "270172dc",
   "metadata": {},
   "source": [
    "# Step 1: Load and examine pose data "
   ]
  },
  {
   "cell_type": "code",
   "execution_count": 4,
   "id": "c07a75f9",
   "metadata": {},
   "outputs": [
    {
     "name": "stdout",
     "output_type": "stream",
     "text": [
      "          00x         00y         01x         01y         02x         02y  \\\n",
      "0  378.627978  108.216630  378.627978  179.877336  316.190927  177.748800   \n",
      "1  384.201292  108.053948  388.236846  191.647576  321.938452  191.071068   \n",
      "\n",
      "          03x         03y         04x         04y  ...         13x  \\\n",
      "0  214.021208  187.681967  116.108560  191.939039  ...  389.980169   \n",
      "1  249.298471  266.017079  176.658491  328.279920  ...  409.567634   \n",
      "\n",
      "          13y         14x        14y         15x        15y         16x  \\\n",
      "0  690.016421  367.275787  95.445415  392.818217  95.445415  351.666524   \n",
      "1  685.714744  371.518121  95.370776  396.884463  95.370776  357.681934   \n",
      "\n",
      "          16y         17x         17y  \n",
      "0  101.121511  414.103575  102.540535  \n",
      "1  105.747917  417.638743  105.747917  \n",
      "\n",
      "[2 rows x 36 columns]\n"
     ]
    }
   ],
   "source": [
    "raw_pose_data = [\n",
    "    {\"people\": [{\"pose_keypoints_2d\": [378.62797810302845, 108.21663023365875, 1.0, \n",
    "                                       378.6279781030284, 179.87733615852062, 1.0, \n",
    "                                       316.19092739621794, 177.74880033897023, 1.0, \n",
    "                                       214.0212080578009, 187.68196749687195, 1.0, \n",
    "                                       116.10856035848451, 191.93903913597262, 1.0, \n",
    "                                       441.06502880983885, 182.005871978071, 1.0, \n",
    "                                       544.653772027956, 190.52001525627236, 1.0, \n",
    "                                       641.1473958475722, 190.52001525627236, 1.0, \n",
    "                                       344.57140499022273, 367.89800021880205, 1.0, \n",
    "                                       353.0855482684242, 533.9237941437297, 1.0, \n",
    "                                       365.8567631857263, 695.6925164295568, 1.0, \n",
    "                                       419.77967061433526, 369.3170240985023, 1.0, \n",
    "                                       411.2655273361338, 532.5047702640296, 1.0, \n",
    "                                       389.9801691406303, 690.0164209107558, 1.0, \n",
    "                                       367.27578706542647, 95.4454153163565, 1.0, \n",
    "                                       392.81821690003085, 95.4454153163565, 1.0, \n",
    "                                       351.66652438872393, 101.12151083515744, 1.0, \n",
    "                                       414.1035750955343, 102.5405347148577, 1.0]}], \n",
    "                \"canvas_height\": 768, \n",
    "                \"canvas_width\": 768},\n",
    "                ]\n",
    "pose2 = [{\"people\": [{\"pose_keypoints_2d\": [384.20129182603614, 108.05394766065803, 1.0, 388.2368462880452, 191.64757580227325, 1.0, 321.93845155504005, 191.07106802198626, 1.0, 249.29847123887805, 266.0170794592963, 1.0, 176.65849092271594, 328.2799197302924, 1.0, 454.5352410210503, 192.22408358256024, 1.0, 521.4101435343424, 260.25200165642633, 1.0, 602.1212327745226, 331.73896641201446, 1.0, 344.99876276652026, 375.5535577138265, 1.0, 353.0698716905381, 534.6697050730388, 1.0, 346.15177832709423, 668.4195100996228, 1.0, 430.32191424899634, 373.2475265926785, 1.0, 425.7098520067002, 531.2106583913167, 1.0, 409.5676341586643, 685.7147435082329, 1.0, 371.5181206597222, 95.37077649434406, 1.0, 396.8844629923502, 95.37077649434406, 1.0, 357.6819339328342, 105.74791653951007, 1.0, 417.63874308268225, 105.74791653951007, 1.0]}], \"canvas_height\": 768, \"canvas_width\": 768}]\n",
    "\n",
    "def extract_keypoints(data):\n",
    "    '''\n",
    "    Convert the raw pose JSON into a dict of coordinate pairs\n",
    "    '''\n",
    "    payload = data[0][\"people\"][0][\"pose_keypoints_2d\"]\n",
    "    payload = list(filter((1.0).__ne__,payload))\n",
    "    return payload\n",
    "\n",
    "points = extract_keypoints(raw_pose_data)\n",
    "\n",
    "def generate_column_labels(coords=18):\n",
    "    '''\n",
    "    Make an array with the names of all of the columns instead of handcoding it.\n",
    "    '''\n",
    "    labels = []\n",
    "    for i in range(coords):\n",
    "        formatted_number = f\"{i:02d}\"\n",
    "        labels.append(formatted_number + \"x\")\n",
    "        labels.append(formatted_number + \"y\")\n",
    "    return labels\n",
    "\n",
    "labels = generate_column_labels()\n",
    "\n",
    "coord_to_name = [\"head\",            # Using the Pose Output Format (COCO), which appears to be what OpenPoses uses\n",
    "                 \"hips\",\n",
    "                 \"left_shoulder\",\n",
    "                 \"left_elbow\",\n",
    "                 \"left_hand\",\n",
    "                 \"right_shoulder\",\n",
    "                 \"right_elbow\",\n",
    "                 \"right_hand\",\n",
    "                 \"left_hip\",\n",
    "                 \"left_knee\",\n",
    "                 \"left_foot\",\n",
    "                 \"right_hip\",\n",
    "                 \"right_knee\",\n",
    "                 \"right_foot\",\n",
    "                 \"left_eye\",\n",
    "                 \"right_eye\",\n",
    "                 \"left_ear\",\n",
    "                 \"right_ear\"]\n",
    "\n",
    "def prep_dataframe(labels):\n",
    "    '''\n",
    "    Make a DF with the proper labels\n",
    "    '''\n",
    "    return DataFrame(columns=labels)\n",
    "\n",
    "def store_keypoints(points, labels, df):\n",
    "    '''\n",
    "    Store pose coords within a DF. \n",
    "    '''\n",
    "    if len(points) != len(labels):\n",
    "        print(\"Error: Size mismatch between coordinates list and labels\")\n",
    "        return df\n",
    "    temp_points = copy.copy(points)\n",
    "    df.loc[len(df)] = temp_points\n",
    "\n",
    "df = prep_dataframe(labels)\n",
    "store_keypoints(points,labels,df)\n",
    "points = extract_keypoints(pose2)\n",
    "store_keypoints(points,labels,df)\n",
    "print(df)"
   ]
  },
  {
   "cell_type": "markdown",
   "id": "38457495",
   "metadata": {},
   "source": [
    "# Step 2: Clean and filter incomplete rows "
   ]
  },
  {
   "cell_type": "code",
   "execution_count": null,
   "id": "0dfab380",
   "metadata": {},
   "outputs": [],
   "source": []
  },
  {
   "cell_type": "markdown",
   "id": "01711338",
   "metadata": {},
   "source": [
    "# Step 4: Create derived features: speed, angle, joint distance "
   ]
  },
  {
   "cell_type": "code",
   "execution_count": null,
   "id": "80130561",
   "metadata": {},
   "outputs": [],
   "source": [
    "# Compute vectors base on implied movement between each pose\n",
    "\n",
    "def pack_coord(joint_no,pose_no, df):\n",
    "    joint_str = f\"{joint_no:02d}\"\n",
    "    coord = [df[joint_str + \"x\"][pose_no]]\n",
    "    coord.append([df[joint_str + \"y\"]][pose_no])\n",
    "    return coord\n",
    "\n",
    "def compute_vect(p1, p2):\n",
    "    return ([p1[0]-p2[0],p1[1]-p2[1]])\n",
    "\n"
   ]
  },
  {
   "cell_type": "markdown",
   "id": "c2f5afb3",
   "metadata": {},
   "source": [
    "# Step 5: Slice sequences by frame intervals "
   ]
  },
  {
   "cell_type": "code",
   "execution_count": null,
   "id": "d52c76bb",
   "metadata": {},
   "outputs": [],
   "source": [
    "# Not needed for this phase, but possibly useful later for going from video to pose"
   ]
  },
  {
   "cell_type": "markdown",
   "id": "a52d1e2c",
   "metadata": {},
   "source": [
    "# Step 6: Assign dance move labels "
   ]
  },
  {
   "cell_type": "code",
   "execution_count": null,
   "id": "9b0341f4",
   "metadata": {},
   "outputs": [],
   "source": []
  },
  {
   "cell_type": "markdown",
   "id": "60470ee2",
   "metadata": {},
   "source": [
    "# Step 7: Convert pose DataFrame to movement Vectors"
   ]
  },
  {
   "cell_type": "code",
   "execution_count": null,
   "id": "41befb76",
   "metadata": {},
   "outputs": [],
   "source": []
  }
 ],
 "metadata": {
  "kernelspec": {
   "display_name": "Python 3",
   "language": "python",
   "name": "python3"
  },
  "language_info": {
   "codemirror_mode": {
    "name": "ipython",
    "version": 3
   },
   "file_extension": ".py",
   "mimetype": "text/x-python",
   "name": "python",
   "nbconvert_exporter": "python",
   "pygments_lexer": "ipython3",
   "version": "3.12.4"
  }
 },
 "nbformat": 4,
 "nbformat_minor": 5
}
